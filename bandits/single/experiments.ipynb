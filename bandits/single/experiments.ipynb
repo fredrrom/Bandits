{
 "cells": [
  {
   "cell_type": "code",
   "execution_count": 1,
   "metadata": {},
   "outputs": [],
   "source": [
    "import pandas as pd\n",
    "import numpy as np\n",
    "import matplotlib.pyplot as plt\n",
    "import seaborn as sns\n",
    "from ucb import UCB\n",
    "from exp3 import Exp3\n",
    "from exp4 import Exp4\n",
    "\n",
    "sns.set_theme()"
   ]
  },
  {
   "cell_type": "markdown",
   "metadata": {},
   "source": [
    "## Preprocessing Movielens data"
   ]
  },
  {
   "cell_type": "code",
   "execution_count": 2,
   "metadata": {},
   "outputs": [
    {
     "name": "stdout",
     "output_type": "stream",
     "text": [
      "reading movielens 1m data\n"
     ]
    },
    {
     "name": "stderr",
     "output_type": "stream",
     "text": [
      "C:\\Users\\fromm\\AppData\\Local\\Temp\\ipykernel_22200\\2005891700.py:6: ParserWarning: Falling back to the 'python' engine because the 'c' engine does not support regex separators (separators > 1 char and different from '\\s+' are interpreted as regex); you can avoid this warning by specifying engine='python'.\n",
      "  ratings = pd.read_csv('../data/ml-1m/ratings.dat', sep='::', names=['UserID','MovieID','Rating','Timestamp'], encoding = \"ISO-8859-1\")\n",
      "C:\\Users\\fromm\\AppData\\Local\\Temp\\ipykernel_22200\\2005891700.py:7: ParserWarning: Falling back to the 'python' engine because the 'c' engine does not support regex separators (separators > 1 char and different from '\\s+' are interpreted as regex); you can avoid this warning by specifying engine='python'.\n",
      "  movies = pd.read_csv('../data/ml-1m/movies.dat', sep='::', names=['MovieID','Title','Genres'], encoding = \"ISO-8859-1\")\n",
      "C:\\Users\\fromm\\AppData\\Local\\Temp\\ipykernel_22200\\2005891700.py:8: ParserWarning: Falling back to the 'python' engine because the 'c' engine does not support regex separators (separators > 1 char and different from '\\s+' are interpreted as regex); you can avoid this warning by specifying engine='python'.\n",
      "  users = pd.read_csv('../data/ml-1m/users.dat', sep='::', names=['UserID','Gender','Age','Occupation', 'Zip'], encoding = \"ISO-8859-1\")\n"
     ]
    }
   ],
   "source": [
    "print('reading movielens 1m data')\n",
    "ratings = pd.read_csv('../../data/ml-1m/ratings.dat', sep='::', names=['UserID','MovieID','Rating','Timestamp'], encoding = \"ISO-8859-1\")\n",
    "movies = pd.read_csv('../../data/ml-1m/movies.dat', sep='::', names=['MovieID','Title','Genres'], encoding = \"ISO-8859-1\")\n",
    "users = pd.read_csv('../../data/ml-1m/users.dat', sep='::', names=['UserID','Gender','Age','Occupation', 'Zip'], encoding = \"ISO-8859-1\")\n",
    "#ratings = pd.read_csv('../data/ml-1m/ratings.dat', sep=':', usecols=range(0,5,2), names=['UserID','MovieID','Rating'], encoding = \"ISO-8859-1\")\n",
    "#movies = pd.read_csv('../data/ml-1m/movies.dat', sep=':', usecols=range(0,5,2), names=['MovieID','Title','Genres'], encoding = \"ISO-8859-1\")\n",
    "#users = pd.read_csv('../data/ml-1m/users.dat', sep=':', usecols=range(0,7,2), names=['UserID','Gender','Age','Occupation'], encoding = \"ISO-8859-1\")\n",
    "\n",
    "movies = movies.join(movies['Genres'].str.get_dummies().astype(bool))\n",
    "movies.drop('Genres', inplace=True, axis=1)\n",
    "ratings['Liked'] = ratings['Rating'].apply(lambda x: 1 if x == 5 else 0)"
   ]
  },
  {
   "cell_type": "code",
   "execution_count": 3,
   "metadata": {},
   "outputs": [
    {
     "name": "stdout",
     "output_type": "stream",
     "text": [
      "100\n",
      "Int64Index([2858,  260, 1196, 1210,  480, 2028,  589, 2571, 1270,  593, 1580,\n",
      "            1198,  608, 2762,  110, 2396, 1197,  527, 1617, 1265, 1097, 2628,\n",
      "            2997,  318,  858,  356, 2716,  296, 1240,    1, 1214, 2916,  457,\n",
      "            3578, 1200,  541, 2987, 1259,   50,   34, 2791,  780, 3175, 1193,\n",
      "             919,  924, 1127, 2355, 1387, 1221,  912, 1036, 1213, 1610,  377,\n",
      "            1291, 2000, 1136, 3114, 1307, 1704, 1721, 1968,  648, 2599, 3793,\n",
      "              32, 2174, 2797, 2291, 2918,  590, 3471, 2959, 1374, 2683, 1394,\n",
      "             592, 1784, 1573, 1304, 3418,  223,  380, 2706, 1225, 1584, 1527,\n",
      "            3481, 1923, 2699,  750,   39,   21, 1393, 2804,  588, 2406, 1220,\n",
      "             733],\n",
      "           dtype='int64')\n"
     ]
    }
   ],
   "source": [
    "top10ids = ratings['MovieID'].value_counts().head(10)\n",
    "most_rated = movies.loc[movies['MovieID'].isin(top10ids.index)]\n",
    "print(top10ids.index)"
   ]
  },
  {
   "cell_type": "code",
   "execution_count": 4,
   "metadata": {},
   "outputs": [
    {
     "data": {
      "text/html": [
       "<div>\n",
       "<style scoped>\n",
       "    .dataframe tbody tr th:only-of-type {\n",
       "        vertical-align: middle;\n",
       "    }\n",
       "\n",
       "    .dataframe tbody tr th {\n",
       "        vertical-align: top;\n",
       "    }\n",
       "\n",
       "    .dataframe thead th {\n",
       "        text-align: right;\n",
       "    }\n",
       "</style>\n",
       "<table border=\"1\" class=\"dataframe\">\n",
       "  <thead>\n",
       "    <tr style=\"text-align: right;\">\n",
       "      <th></th>\n",
       "      <th>UserID</th>\n",
       "      <th>MovieID</th>\n",
       "      <th>Rating</th>\n",
       "      <th>Timestamp</th>\n",
       "      <th>Liked</th>\n",
       "    </tr>\n",
       "  </thead>\n",
       "  <tbody>\n",
       "    <tr>\n",
       "      <th>0</th>\n",
       "      <td>1</td>\n",
       "      <td>1193</td>\n",
       "      <td>5</td>\n",
       "      <td>978300760</td>\n",
       "      <td>1</td>\n",
       "    </tr>\n",
       "    <tr>\n",
       "      <th>4</th>\n",
       "      <td>1</td>\n",
       "      <td>2355</td>\n",
       "      <td>5</td>\n",
       "      <td>978824291</td>\n",
       "      <td>1</td>\n",
       "    </tr>\n",
       "    <tr>\n",
       "      <th>5</th>\n",
       "      <td>1</td>\n",
       "      <td>1197</td>\n",
       "      <td>3</td>\n",
       "      <td>978302268</td>\n",
       "      <td>0</td>\n",
       "    </tr>\n",
       "    <tr>\n",
       "      <th>7</th>\n",
       "      <td>1</td>\n",
       "      <td>2804</td>\n",
       "      <td>5</td>\n",
       "      <td>978300719</td>\n",
       "      <td>1</td>\n",
       "    </tr>\n",
       "    <tr>\n",
       "      <th>9</th>\n",
       "      <td>1</td>\n",
       "      <td>919</td>\n",
       "      <td>4</td>\n",
       "      <td>978301368</td>\n",
       "      <td>0</td>\n",
       "    </tr>\n",
       "    <tr>\n",
       "      <th>...</th>\n",
       "      <td>...</td>\n",
       "      <td>...</td>\n",
       "      <td>...</td>\n",
       "      <td>...</td>\n",
       "      <td>...</td>\n",
       "    </tr>\n",
       "    <tr>\n",
       "      <th>1000184</th>\n",
       "      <td>6040</td>\n",
       "      <td>2791</td>\n",
       "      <td>4</td>\n",
       "      <td>956715569</td>\n",
       "      <td>0</td>\n",
       "    </tr>\n",
       "    <tr>\n",
       "      <th>1000186</th>\n",
       "      <td>6040</td>\n",
       "      <td>527</td>\n",
       "      <td>5</td>\n",
       "      <td>956704219</td>\n",
       "      <td>1</td>\n",
       "    </tr>\n",
       "    <tr>\n",
       "      <th>1000193</th>\n",
       "      <td>6040</td>\n",
       "      <td>541</td>\n",
       "      <td>4</td>\n",
       "      <td>956715288</td>\n",
       "      <td>0</td>\n",
       "    </tr>\n",
       "    <tr>\n",
       "      <th>1000200</th>\n",
       "      <td>6040</td>\n",
       "      <td>2028</td>\n",
       "      <td>5</td>\n",
       "      <td>956704519</td>\n",
       "      <td>1</td>\n",
       "    </tr>\n",
       "    <tr>\n",
       "      <th>1000208</th>\n",
       "      <td>6040</td>\n",
       "      <td>1097</td>\n",
       "      <td>4</td>\n",
       "      <td>956715569</td>\n",
       "      <td>0</td>\n",
       "    </tr>\n",
       "  </tbody>\n",
       "</table>\n",
       "<p>183142 rows × 5 columns</p>\n",
       "</div>"
      ],
      "text/plain": [
       "         UserID  MovieID  Rating  Timestamp  Liked\n",
       "0             1     1193       5  978300760      1\n",
       "4             1     2355       5  978824291      1\n",
       "5             1     1197       3  978302268      0\n",
       "7             1     2804       5  978300719      1\n",
       "9             1      919       4  978301368      0\n",
       "...         ...      ...     ...        ...    ...\n",
       "1000184    6040     2791       4  956715569      0\n",
       "1000186    6040      527       5  956704219      1\n",
       "1000193    6040      541       4  956715288      0\n",
       "1000200    6040     2028       5  956704519      1\n",
       "1000208    6040     1097       4  956715569      0\n",
       "\n",
       "[183142 rows x 5 columns]"
      ]
     },
     "execution_count": 4,
     "metadata": {},
     "output_type": "execute_result"
    }
   ],
   "source": [
    "ratings_top10 = ratings.loc[ratings['MovieID'].isin(top10ids.index)]\n",
    "ratings_top10"
   ]
  },
  {
   "cell_type": "code",
   "execution_count": 5,
   "metadata": {},
   "outputs": [
    {
     "data": {
      "text/html": [
       "<div>\n",
       "<style scoped>\n",
       "    .dataframe tbody tr th:only-of-type {\n",
       "        vertical-align: middle;\n",
       "    }\n",
       "\n",
       "    .dataframe tbody tr th {\n",
       "        vertical-align: top;\n",
       "    }\n",
       "\n",
       "    .dataframe thead th {\n",
       "        text-align: right;\n",
       "    }\n",
       "</style>\n",
       "<table border=\"1\" class=\"dataframe\">\n",
       "  <thead>\n",
       "    <tr style=\"text-align: right;\">\n",
       "      <th></th>\n",
       "      <th>UserID</th>\n",
       "      <th>Gender</th>\n",
       "      <th>Age</th>\n",
       "      <th>Occupation</th>\n",
       "      <th>Zip</th>\n",
       "    </tr>\n",
       "  </thead>\n",
       "  <tbody>\n",
       "    <tr>\n",
       "      <th>0</th>\n",
       "      <td>1</td>\n",
       "      <td>F</td>\n",
       "      <td>1</td>\n",
       "      <td>10</td>\n",
       "      <td>48067</td>\n",
       "    </tr>\n",
       "    <tr>\n",
       "      <th>1</th>\n",
       "      <td>2</td>\n",
       "      <td>M</td>\n",
       "      <td>56</td>\n",
       "      <td>16</td>\n",
       "      <td>70072</td>\n",
       "    </tr>\n",
       "    <tr>\n",
       "      <th>2</th>\n",
       "      <td>3</td>\n",
       "      <td>M</td>\n",
       "      <td>25</td>\n",
       "      <td>15</td>\n",
       "      <td>55117</td>\n",
       "    </tr>\n",
       "    <tr>\n",
       "      <th>3</th>\n",
       "      <td>4</td>\n",
       "      <td>M</td>\n",
       "      <td>45</td>\n",
       "      <td>7</td>\n",
       "      <td>02460</td>\n",
       "    </tr>\n",
       "    <tr>\n",
       "      <th>4</th>\n",
       "      <td>5</td>\n",
       "      <td>M</td>\n",
       "      <td>25</td>\n",
       "      <td>20</td>\n",
       "      <td>55455</td>\n",
       "    </tr>\n",
       "    <tr>\n",
       "      <th>...</th>\n",
       "      <td>...</td>\n",
       "      <td>...</td>\n",
       "      <td>...</td>\n",
       "      <td>...</td>\n",
       "      <td>...</td>\n",
       "    </tr>\n",
       "    <tr>\n",
       "      <th>6035</th>\n",
       "      <td>6036</td>\n",
       "      <td>F</td>\n",
       "      <td>25</td>\n",
       "      <td>15</td>\n",
       "      <td>32603</td>\n",
       "    </tr>\n",
       "    <tr>\n",
       "      <th>6036</th>\n",
       "      <td>6037</td>\n",
       "      <td>F</td>\n",
       "      <td>45</td>\n",
       "      <td>1</td>\n",
       "      <td>76006</td>\n",
       "    </tr>\n",
       "    <tr>\n",
       "      <th>6037</th>\n",
       "      <td>6038</td>\n",
       "      <td>F</td>\n",
       "      <td>56</td>\n",
       "      <td>1</td>\n",
       "      <td>14706</td>\n",
       "    </tr>\n",
       "    <tr>\n",
       "      <th>6038</th>\n",
       "      <td>6039</td>\n",
       "      <td>F</td>\n",
       "      <td>45</td>\n",
       "      <td>0</td>\n",
       "      <td>01060</td>\n",
       "    </tr>\n",
       "    <tr>\n",
       "      <th>6039</th>\n",
       "      <td>6040</td>\n",
       "      <td>M</td>\n",
       "      <td>25</td>\n",
       "      <td>6</td>\n",
       "      <td>11106</td>\n",
       "    </tr>\n",
       "  </tbody>\n",
       "</table>\n",
       "<p>6035 rows × 5 columns</p>\n",
       "</div>"
      ],
      "text/plain": [
       "      UserID Gender  Age  Occupation    Zip\n",
       "0          1      F    1          10  48067\n",
       "1          2      M   56          16  70072\n",
       "2          3      M   25          15  55117\n",
       "3          4      M   45           7  02460\n",
       "4          5      M   25          20  55455\n",
       "...      ...    ...  ...         ...    ...\n",
       "6035    6036      F   25          15  32603\n",
       "6036    6037      F   45           1  76006\n",
       "6037    6038      F   56           1  14706\n",
       "6038    6039      F   45           0  01060\n",
       "6039    6040      M   25           6  11106\n",
       "\n",
       "[6035 rows x 5 columns]"
      ]
     },
     "execution_count": 5,
     "metadata": {},
     "output_type": "execute_result"
    }
   ],
   "source": [
    "users_top10 = users.loc[users['UserID'].isin(ratings_top10['UserID'])]\n",
    "users_top10"
   ]
  },
  {
   "cell_type": "code",
   "execution_count": 6,
   "metadata": {},
   "outputs": [
    {
     "data": {
      "text/html": [
       "<div>\n",
       "<style scoped>\n",
       "    .dataframe tbody tr th:only-of-type {\n",
       "        vertical-align: middle;\n",
       "    }\n",
       "\n",
       "    .dataframe tbody tr th {\n",
       "        vertical-align: top;\n",
       "    }\n",
       "\n",
       "    .dataframe thead th {\n",
       "        text-align: right;\n",
       "    }\n",
       "</style>\n",
       "<table border=\"1\" class=\"dataframe\">\n",
       "  <thead>\n",
       "    <tr style=\"text-align: right;\">\n",
       "      <th></th>\n",
       "      <th>UserID</th>\n",
       "      <th>MovieID</th>\n",
       "      <th>Rating</th>\n",
       "      <th>Timestamp</th>\n",
       "      <th>Liked</th>\n",
       "      <th>Gender</th>\n",
       "      <th>Age</th>\n",
       "      <th>Occupation</th>\n",
       "      <th>Zip</th>\n",
       "    </tr>\n",
       "  </thead>\n",
       "  <tbody>\n",
       "    <tr>\n",
       "      <th>0</th>\n",
       "      <td>3344</td>\n",
       "      <td>1573</td>\n",
       "      <td>3</td>\n",
       "      <td>967776363</td>\n",
       "      <td>0</td>\n",
       "      <td>M</td>\n",
       "      <td>35</td>\n",
       "      <td>0</td>\n",
       "      <td>08902</td>\n",
       "    </tr>\n",
       "    <tr>\n",
       "      <th>1</th>\n",
       "      <td>498</td>\n",
       "      <td>2716</td>\n",
       "      <td>4</td>\n",
       "      <td>976212456</td>\n",
       "      <td>0</td>\n",
       "      <td>M</td>\n",
       "      <td>35</td>\n",
       "      <td>17</td>\n",
       "      <td>55113</td>\n",
       "    </tr>\n",
       "    <tr>\n",
       "      <th>2</th>\n",
       "      <td>3964</td>\n",
       "      <td>858</td>\n",
       "      <td>4</td>\n",
       "      <td>965669402</td>\n",
       "      <td>0</td>\n",
       "      <td>M</td>\n",
       "      <td>56</td>\n",
       "      <td>16</td>\n",
       "      <td>66502</td>\n",
       "    </tr>\n",
       "    <tr>\n",
       "      <th>3</th>\n",
       "      <td>1680</td>\n",
       "      <td>588</td>\n",
       "      <td>4</td>\n",
       "      <td>974713412</td>\n",
       "      <td>0</td>\n",
       "      <td>M</td>\n",
       "      <td>25</td>\n",
       "      <td>20</td>\n",
       "      <td>95380</td>\n",
       "    </tr>\n",
       "    <tr>\n",
       "      <th>4</th>\n",
       "      <td>3437</td>\n",
       "      <td>1</td>\n",
       "      <td>5</td>\n",
       "      <td>967326085</td>\n",
       "      <td>1</td>\n",
       "      <td>F</td>\n",
       "      <td>25</td>\n",
       "      <td>0</td>\n",
       "      <td>37203</td>\n",
       "    </tr>\n",
       "    <tr>\n",
       "      <th>...</th>\n",
       "      <td>...</td>\n",
       "      <td>...</td>\n",
       "      <td>...</td>\n",
       "      <td>...</td>\n",
       "      <td>...</td>\n",
       "      <td>...</td>\n",
       "      <td>...</td>\n",
       "      <td>...</td>\n",
       "      <td>...</td>\n",
       "    </tr>\n",
       "    <tr>\n",
       "      <th>183137</th>\n",
       "      <td>4014</td>\n",
       "      <td>3175</td>\n",
       "      <td>4</td>\n",
       "      <td>965536784</td>\n",
       "      <td>0</td>\n",
       "      <td>M</td>\n",
       "      <td>25</td>\n",
       "      <td>0</td>\n",
       "      <td>48316-5601</td>\n",
       "    </tr>\n",
       "    <tr>\n",
       "      <th>183138</th>\n",
       "      <td>4089</td>\n",
       "      <td>1200</td>\n",
       "      <td>4</td>\n",
       "      <td>965503776</td>\n",
       "      <td>0</td>\n",
       "      <td>M</td>\n",
       "      <td>25</td>\n",
       "      <td>7</td>\n",
       "      <td>79416</td>\n",
       "    </tr>\n",
       "    <tr>\n",
       "      <th>183139</th>\n",
       "      <td>699</td>\n",
       "      <td>590</td>\n",
       "      <td>4</td>\n",
       "      <td>975559515</td>\n",
       "      <td>0</td>\n",
       "      <td>M</td>\n",
       "      <td>18</td>\n",
       "      <td>0</td>\n",
       "      <td>73505</td>\n",
       "    </tr>\n",
       "    <tr>\n",
       "      <th>183140</th>\n",
       "      <td>646</td>\n",
       "      <td>2858</td>\n",
       "      <td>2</td>\n",
       "      <td>975715946</td>\n",
       "      <td>0</td>\n",
       "      <td>M</td>\n",
       "      <td>35</td>\n",
       "      <td>7</td>\n",
       "      <td>08505</td>\n",
       "    </tr>\n",
       "    <tr>\n",
       "      <th>183141</th>\n",
       "      <td>1194</td>\n",
       "      <td>1580</td>\n",
       "      <td>4</td>\n",
       "      <td>1036308118</td>\n",
       "      <td>0</td>\n",
       "      <td>F</td>\n",
       "      <td>25</td>\n",
       "      <td>1</td>\n",
       "      <td>95617</td>\n",
       "    </tr>\n",
       "  </tbody>\n",
       "</table>\n",
       "<p>183142 rows × 9 columns</p>\n",
       "</div>"
      ],
      "text/plain": [
       "        UserID  MovieID  Rating   Timestamp  Liked Gender  Age  Occupation  \\\n",
       "0         3344     1573       3   967776363      0      M   35           0   \n",
       "1          498     2716       4   976212456      0      M   35          17   \n",
       "2         3964      858       4   965669402      0      M   56          16   \n",
       "3         1680      588       4   974713412      0      M   25          20   \n",
       "4         3437        1       5   967326085      1      F   25           0   \n",
       "...        ...      ...     ...         ...    ...    ...  ...         ...   \n",
       "183137    4014     3175       4   965536784      0      M   25           0   \n",
       "183138    4089     1200       4   965503776      0      M   25           7   \n",
       "183139     699      590       4   975559515      0      M   18           0   \n",
       "183140     646     2858       2   975715946      0      M   35           7   \n",
       "183141    1194     1580       4  1036308118      0      F   25           1   \n",
       "\n",
       "               Zip  \n",
       "0            08902  \n",
       "1            55113  \n",
       "2            66502  \n",
       "3            95380  \n",
       "4            37203  \n",
       "...            ...  \n",
       "183137  48316-5601  \n",
       "183138       79416  \n",
       "183139       73505  \n",
       "183140       08505  \n",
       "183141       95617  \n",
       "\n",
       "[183142 rows x 9 columns]"
      ]
     },
     "execution_count": 6,
     "metadata": {},
     "output_type": "execute_result"
    }
   ],
   "source": [
    "data = pd.merge(ratings_top10, users_top10, on='UserID').sample(frac=1,random_state=5).reset_index(drop=True)\n",
    "data"
   ]
  },
  {
   "cell_type": "markdown",
   "metadata": {},
   "source": [
    "Bandit implementations require knowledge of time horizon, number of arms (movies) k, and the reward function for taking action A at time step t. When evaluating offline using replay, the time horizon can vary. This can influence the performance of the algorithms as the value updates depend on the time horizon. THe time horizon can vary between 0 and the length of dataset, however the expected time horizon is length of dataset / k."
   ]
  },
  {
   "cell_type": "code",
   "execution_count": 1,
   "metadata": {},
   "outputs": [
    {
     "ename": "NameError",
     "evalue": "name 'data' is not defined",
     "output_type": "error",
     "traceback": [
      "\u001b[0;31m---------------------------------------------------------------------------\u001b[0m",
      "\u001b[0;31mNameError\u001b[0m                                 Traceback (most recent call last)",
      "\u001b[1;32m/Users/fredrik/Library/CloudStorage/OneDrive-UniversitetetiOslo/UiO/IN-STK9100/project/bandits/experiments.ipynb Cell 9'\u001b[0m in \u001b[0;36m<cell line: 1>\u001b[0;34m()\u001b[0m\n\u001b[0;32m----> <a href='vscode-notebook-cell:/Users/fredrik/Library/CloudStorage/OneDrive-UniversitetetiOslo/UiO/IN-STK9100/project/bandits/experiments.ipynb#ch0000008?line=0'>1</a>\u001b[0m horizon \u001b[39m=\u001b[39m \u001b[39mlen\u001b[39m(data\u001b[39m.\u001b[39mindex)\u001b[39m*\u001b[39m\u001b[39m10\u001b[39m\n\u001b[1;32m      <a href='vscode-notebook-cell:/Users/fredrik/Library/CloudStorage/OneDrive-UniversitetetiOslo/UiO/IN-STK9100/project/bandits/experiments.ipynb#ch0000008?line=1'>2</a>\u001b[0m k \u001b[39m=\u001b[39m \u001b[39mlen\u001b[39m(top10ids\u001b[39m.\u001b[39mindex)\n\u001b[1;32m      <a href='vscode-notebook-cell:/Users/fredrik/Library/CloudStorage/OneDrive-UniversitetetiOslo/UiO/IN-STK9100/project/bandits/experiments.ipynb#ch0000008?line=2'>3</a>\u001b[0m M \u001b[39m=\u001b[39m \u001b[39m10\u001b[39m\n",
      "\u001b[0;31mNameError\u001b[0m: name 'data' is not defined"
     ]
    }
   ],
   "source": [
    "horizon = len(data.index)*10\n",
    "k = len(top10ids.index)\n",
    "M = 10\n",
    "\n",
    "def reward(t,A):\n",
    "    t = t % len(data.index)\n",
    "    if data['MovieID'].iloc[t] == top10ids.index[A]:\n",
    "        return data['Liked'].iloc[t]\n",
    "    return None\n",
    "\n",
    "# Experts 100 random distributions f: age group -> movie\n",
    "expert = {}\n",
    "diag = np.zeros((k,k))\n",
    "np.fill_diagonal(diag, 1)\n",
    "diag = np.tile(diag,(M,1))\n",
    "for age in data['Age'].unique():\n",
    "    new_ks = diag.copy()\n",
    "    expert[age] = np.random.shuffle(new_ks)\n",
    "\n",
    "def advice(t):\n",
    "    t = t % len(data.index)\n",
    "    return expert[data['Age'].iloc[t]]\n",
    "\n",
    "print(expert[25])"
   ]
  },
  {
   "cell_type": "code",
   "execution_count": 10,
   "metadata": {},
   "outputs": [
    {
     "ename": "KeyboardInterrupt",
     "evalue": "",
     "output_type": "error",
     "traceback": [
      "\u001b[1;31m---------------------------------------------------------------------------\u001b[0m",
      "\u001b[1;31mKeyboardInterrupt\u001b[0m                         Traceback (most recent call last)",
      "\u001b[1;32mc:\\Users\\fromm\\OneDrive - Universitetet i Oslo\\UiO\\IN-STK9100\\project\\bandits\\experiments.ipynb Cell 10'\u001b[0m in \u001b[0;36m<cell line: 1>\u001b[1;34m()\u001b[0m\n\u001b[1;32m----> <a href='vscode-notebook-cell:/c%3A/Users/fromm/OneDrive%20-%20Universitetet%20i%20Oslo/UiO/IN-STK9100/project/bandits/experiments.ipynb#ch0000009?line=0'>1</a>\u001b[0m ucb \u001b[39m=\u001b[39m UCB(k,reward,horizon)\n",
      "File \u001b[1;32mc:\\Users\\fromm\\OneDrive - Universitetet i Oslo\\UiO\\IN-STK9100\\project\\bandits\\ucb.py:33\u001b[0m, in \u001b[0;36mUCB\u001b[1;34m(k, reward, horizon, c, step_size)\u001b[0m\n\u001b[0;32m     <a href='file:///c%3A/Users/fromm/OneDrive%20-%20Universitetet%20i%20Oslo/UiO/IN-STK9100/project/bandits/ucb.py?line=30'>31</a>\u001b[0m t_hit \u001b[39m=\u001b[39m \u001b[39m0\u001b[39m\n\u001b[0;32m     <a href='file:///c%3A/Users/fromm/OneDrive%20-%20Universitetet%20i%20Oslo/UiO/IN-STK9100/project/bandits/ucb.py?line=31'>32</a>\u001b[0m \u001b[39mfor\u001b[39;00m t \u001b[39min\u001b[39;00m \u001b[39mrange\u001b[39m(horizon):\n\u001b[1;32m---> <a href='file:///c%3A/Users/fromm/OneDrive%20-%20Universitetet%20i%20Oslo/UiO/IN-STK9100/project/bandits/ucb.py?line=32'>33</a>\u001b[0m     A \u001b[39m=\u001b[39m UCB_next_action(t_hit,Q,N,c)\n\u001b[0;32m     <a href='file:///c%3A/Users/fromm/OneDrive%20-%20Universitetet%20i%20Oslo/UiO/IN-STK9100/project/bandits/ucb.py?line=33'>34</a>\u001b[0m     X \u001b[39m=\u001b[39m reward(t,A)\n\u001b[0;32m     <a href='file:///c%3A/Users/fromm/OneDrive%20-%20Universitetet%20i%20Oslo/UiO/IN-STK9100/project/bandits/ucb.py?line=34'>35</a>\u001b[0m     \u001b[39mif\u001b[39;00m X \u001b[39mis\u001b[39;00m \u001b[39mnot\u001b[39;00m \u001b[39mNone\u001b[39;00m:\n",
      "File \u001b[1;32mc:\\Users\\fromm\\OneDrive - Universitetet i Oslo\\UiO\\IN-STK9100\\project\\bandits\\ucb.py:9\u001b[0m, in \u001b[0;36mUCB_next_action\u001b[1;34m(t, Q, N, c)\u001b[0m\n\u001b[0;32m      <a href='file:///c%3A/Users/fromm/OneDrive%20-%20Universitetet%20i%20Oslo/UiO/IN-STK9100/project/bandits/ucb.py?line=6'>7</a>\u001b[0m     next_action \u001b[39m=\u001b[39m min_action\n\u001b[0;32m      <a href='file:///c%3A/Users/fromm/OneDrive%20-%20Universitetet%20i%20Oslo/UiO/IN-STK9100/project/bandits/ucb.py?line=7'>8</a>\u001b[0m \u001b[39melse\u001b[39;00m:\n\u001b[1;32m----> <a href='file:///c%3A/Users/fromm/OneDrive%20-%20Universitetet%20i%20Oslo/UiO/IN-STK9100/project/bandits/ucb.py?line=8'>9</a>\u001b[0m     next_action \u001b[39m=\u001b[39m np\u001b[39m.\u001b[39;49margmax(Q\u001b[39m+\u001b[39;49mc\u001b[39m*\u001b[39;49mnp\u001b[39m.\u001b[39;49msqrt(np\u001b[39m.\u001b[39;49mlog(t)\u001b[39m/\u001b[39;49mN))\n\u001b[0;32m     <a href='file:///c%3A/Users/fromm/OneDrive%20-%20Universitetet%20i%20Oslo/UiO/IN-STK9100/project/bandits/ucb.py?line=9'>10</a>\u001b[0m \u001b[39mreturn\u001b[39;00m next_action\n",
      "File \u001b[1;32m<__array_function__ internals>:5\u001b[0m, in \u001b[0;36margmax\u001b[1;34m(*args, **kwargs)\u001b[0m\n",
      "File \u001b[1;32m~\\Anaconda3\\envs\\data-science\\lib\\site-packages\\numpy\\core\\fromnumeric.py:1195\u001b[0m, in \u001b[0;36margmax\u001b[1;34m(a, axis, out)\u001b[0m\n\u001b[0;32m   <a href='file:///c%3A/Users/fromm/Anaconda3/envs/data-science/lib/site-packages/numpy/core/fromnumeric.py?line=1120'>1121</a>\u001b[0m \u001b[39m@array_function_dispatch\u001b[39m(_argmax_dispatcher)\n\u001b[0;32m   <a href='file:///c%3A/Users/fromm/Anaconda3/envs/data-science/lib/site-packages/numpy/core/fromnumeric.py?line=1121'>1122</a>\u001b[0m \u001b[39mdef\u001b[39;00m \u001b[39margmax\u001b[39m(a, axis\u001b[39m=\u001b[39m\u001b[39mNone\u001b[39;00m, out\u001b[39m=\u001b[39m\u001b[39mNone\u001b[39;00m):\n\u001b[0;32m   <a href='file:///c%3A/Users/fromm/Anaconda3/envs/data-science/lib/site-packages/numpy/core/fromnumeric.py?line=1122'>1123</a>\u001b[0m     \u001b[39m\"\"\"\u001b[39;00m\n\u001b[0;32m   <a href='file:///c%3A/Users/fromm/Anaconda3/envs/data-science/lib/site-packages/numpy/core/fromnumeric.py?line=1123'>1124</a>\u001b[0m \u001b[39m    Returns the indices of the maximum values along an axis.\u001b[39;00m\n\u001b[0;32m   <a href='file:///c%3A/Users/fromm/Anaconda3/envs/data-science/lib/site-packages/numpy/core/fromnumeric.py?line=1124'>1125</a>\u001b[0m \n\u001b[1;32m   (...)\u001b[0m\n\u001b[0;32m   <a href='file:///c%3A/Users/fromm/Anaconda3/envs/data-science/lib/site-packages/numpy/core/fromnumeric.py?line=1192'>1193</a>\u001b[0m \n\u001b[0;32m   <a href='file:///c%3A/Users/fromm/Anaconda3/envs/data-science/lib/site-packages/numpy/core/fromnumeric.py?line=1193'>1194</a>\u001b[0m \u001b[39m    \"\"\"\u001b[39;00m\n\u001b[1;32m-> <a href='file:///c%3A/Users/fromm/Anaconda3/envs/data-science/lib/site-packages/numpy/core/fromnumeric.py?line=1194'>1195</a>\u001b[0m     \u001b[39mreturn\u001b[39;00m _wrapfunc(a, \u001b[39m'\u001b[39;49m\u001b[39margmax\u001b[39;49m\u001b[39m'\u001b[39;49m, axis\u001b[39m=\u001b[39;49maxis, out\u001b[39m=\u001b[39;49mout)\n",
      "File \u001b[1;32m~\\Anaconda3\\envs\\data-science\\lib\\site-packages\\numpy\\core\\fromnumeric.py:57\u001b[0m, in \u001b[0;36m_wrapfunc\u001b[1;34m(obj, method, *args, **kwds)\u001b[0m\n\u001b[0;32m     <a href='file:///c%3A/Users/fromm/Anaconda3/envs/data-science/lib/site-packages/numpy/core/fromnumeric.py?line=53'>54</a>\u001b[0m     \u001b[39mreturn\u001b[39;00m _wrapit(obj, method, \u001b[39m*\u001b[39margs, \u001b[39m*\u001b[39m\u001b[39m*\u001b[39mkwds)\n\u001b[0;32m     <a href='file:///c%3A/Users/fromm/Anaconda3/envs/data-science/lib/site-packages/numpy/core/fromnumeric.py?line=55'>56</a>\u001b[0m \u001b[39mtry\u001b[39;00m:\n\u001b[1;32m---> <a href='file:///c%3A/Users/fromm/Anaconda3/envs/data-science/lib/site-packages/numpy/core/fromnumeric.py?line=56'>57</a>\u001b[0m     \u001b[39mreturn\u001b[39;00m bound(\u001b[39m*\u001b[39margs, \u001b[39m*\u001b[39m\u001b[39m*\u001b[39mkwds)\n\u001b[0;32m     <a href='file:///c%3A/Users/fromm/Anaconda3/envs/data-science/lib/site-packages/numpy/core/fromnumeric.py?line=57'>58</a>\u001b[0m \u001b[39mexcept\u001b[39;00m \u001b[39mTypeError\u001b[39;00m:\n\u001b[0;32m     <a href='file:///c%3A/Users/fromm/Anaconda3/envs/data-science/lib/site-packages/numpy/core/fromnumeric.py?line=58'>59</a>\u001b[0m     \u001b[39m# A TypeError occurs if the object does have such a method in its\u001b[39;00m\n\u001b[0;32m     <a href='file:///c%3A/Users/fromm/Anaconda3/envs/data-science/lib/site-packages/numpy/core/fromnumeric.py?line=59'>60</a>\u001b[0m     \u001b[39m# class, but its signature is not identical to that of NumPy's. This\u001b[39;00m\n\u001b[1;32m   (...)\u001b[0m\n\u001b[0;32m     <a href='file:///c%3A/Users/fromm/Anaconda3/envs/data-science/lib/site-packages/numpy/core/fromnumeric.py?line=63'>64</a>\u001b[0m     \u001b[39m# Call _wrapit from within the except clause to ensure a potential\u001b[39;00m\n\u001b[0;32m     <a href='file:///c%3A/Users/fromm/Anaconda3/envs/data-science/lib/site-packages/numpy/core/fromnumeric.py?line=64'>65</a>\u001b[0m     \u001b[39m# exception has a traceback chain.\u001b[39;00m\n\u001b[0;32m     <a href='file:///c%3A/Users/fromm/Anaconda3/envs/data-science/lib/site-packages/numpy/core/fromnumeric.py?line=65'>66</a>\u001b[0m     \u001b[39mreturn\u001b[39;00m _wrapit(obj, method, \u001b[39m*\u001b[39margs, \u001b[39m*\u001b[39m\u001b[39m*\u001b[39mkwds)\n",
      "\u001b[1;31mKeyboardInterrupt\u001b[0m: "
     ]
    }
   ],
   "source": [
    "ucb = UCB(k,reward,horizon)"
   ]
  },
  {
   "cell_type": "code",
   "execution_count": 11,
   "metadata": {},
   "outputs": [
    {
     "ename": "KeyboardInterrupt",
     "evalue": "",
     "output_type": "error",
     "traceback": [
      "\u001b[1;31m---------------------------------------------------------------------------\u001b[0m",
      "\u001b[1;31mKeyboardInterrupt\u001b[0m                         Traceback (most recent call last)",
      "\u001b[1;32mc:\\Users\\fromm\\OneDrive - Universitetet i Oslo\\UiO\\IN-STK9100\\project\\bandits\\experiments.ipynb Cell 11'\u001b[0m in \u001b[0;36m<cell line: 2>\u001b[1;34m()\u001b[0m\n\u001b[0;32m      <a href='vscode-notebook-cell:/c%3A/Users/fromm/OneDrive%20-%20Universitetet%20i%20Oslo/UiO/IN-STK9100/project/bandits/experiments.ipynb#ch0000010?line=0'>1</a>\u001b[0m eta \u001b[39m=\u001b[39m np\u001b[39m.\u001b[39msqrt(\u001b[39m2\u001b[39m\u001b[39m*\u001b[39mnp\u001b[39m.\u001b[39mlog(k)\u001b[39m/\u001b[39m(horizon\u001b[39m*\u001b[39mk))\n\u001b[1;32m----> <a href='vscode-notebook-cell:/c%3A/Users/fromm/OneDrive%20-%20Universitetet%20i%20Oslo/UiO/IN-STK9100/project/bandits/experiments.ipynb#ch0000010?line=1'>2</a>\u001b[0m exp3 \u001b[39m=\u001b[39m Exp3(k,reward,horizon,eta)\n",
      "File \u001b[1;32mc:\\Users\\fromm\\OneDrive - Universitetet i Oslo\\UiO\\IN-STK9100\\project\\bandits\\exp3.py:18\u001b[0m, in \u001b[0;36mExp3\u001b[1;34m(k, reward, horizon, eta)\u001b[0m\n\u001b[0;32m     <a href='file:///c%3A/Users/fromm/OneDrive%20-%20Universitetet%20i%20Oslo/UiO/IN-STK9100/project/bandits/exp3.py?line=15'>16</a>\u001b[0m S \u001b[39m=\u001b[39m np\u001b[39m.\u001b[39mzeros(k)\n\u001b[0;32m     <a href='file:///c%3A/Users/fromm/OneDrive%20-%20Universitetet%20i%20Oslo/UiO/IN-STK9100/project/bandits/exp3.py?line=16'>17</a>\u001b[0m \u001b[39mfor\u001b[39;00m t \u001b[39min\u001b[39;00m \u001b[39mrange\u001b[39m(horizon):\n\u001b[1;32m---> <a href='file:///c%3A/Users/fromm/OneDrive%20-%20Universitetet%20i%20Oslo/UiO/IN-STK9100/project/bandits/exp3.py?line=17'>18</a>\u001b[0m     A, P \u001b[39m=\u001b[39m exp3_next_action(S, eta)\n\u001b[0;32m     <a href='file:///c%3A/Users/fromm/OneDrive%20-%20Universitetet%20i%20Oslo/UiO/IN-STK9100/project/bandits/exp3.py?line=18'>19</a>\u001b[0m     X \u001b[39m=\u001b[39m reward(t,A)\n\u001b[0;32m     <a href='file:///c%3A/Users/fromm/OneDrive%20-%20Universitetet%20i%20Oslo/UiO/IN-STK9100/project/bandits/exp3.py?line=19'>20</a>\u001b[0m     \u001b[39mif\u001b[39;00m X \u001b[39mis\u001b[39;00m \u001b[39mnot\u001b[39;00m \u001b[39mNone\u001b[39;00m:\n",
      "File \u001b[1;32mc:\\Users\\fromm\\OneDrive - Universitetet i Oslo\\UiO\\IN-STK9100\\project\\bandits\\exp3.py:6\u001b[0m, in \u001b[0;36mexp3_next_action\u001b[1;34m(S, c)\u001b[0m\n\u001b[0;32m      <a href='file:///c%3A/Users/fromm/OneDrive%20-%20Universitetet%20i%20Oslo/UiO/IN-STK9100/project/bandits/exp3.py?line=3'>4</a>\u001b[0m \u001b[39mdef\u001b[39;00m \u001b[39mexp3_next_action\u001b[39m(S, c):\n\u001b[0;32m      <a href='file:///c%3A/Users/fromm/OneDrive%20-%20Universitetet%20i%20Oslo/UiO/IN-STK9100/project/bandits/exp3.py?line=4'>5</a>\u001b[0m     P \u001b[39m=\u001b[39m np\u001b[39m.\u001b[39mexp(c\u001b[39m*\u001b[39mS)\u001b[39m/\u001b[39mnp\u001b[39m.\u001b[39msum(np\u001b[39m.\u001b[39mexp(c\u001b[39m*\u001b[39mS))\n\u001b[1;32m----> <a href='file:///c%3A/Users/fromm/OneDrive%20-%20Universitetet%20i%20Oslo/UiO/IN-STK9100/project/bandits/exp3.py?line=5'>6</a>\u001b[0m     \u001b[39mreturn\u001b[39;00m np\u001b[39m.\u001b[39;49mrandom\u001b[39m.\u001b[39;49mchoice(\u001b[39mlen\u001b[39;49m(P),p\u001b[39m=\u001b[39;49mP), P\n",
      "\u001b[1;31mKeyboardInterrupt\u001b[0m: "
     ]
    }
   ],
   "source": [
    "eta = np.sqrt(2*np.log(k)/(horizon*k))\n",
    "exp3 = Exp3(k,reward,horizon,eta)"
   ]
  },
  {
   "cell_type": "code",
   "execution_count": 12,
   "metadata": {},
   "outputs": [
    {
     "ename": "KeyboardInterrupt",
     "evalue": "",
     "output_type": "error",
     "traceback": [
      "\u001b[1;31m---------------------------------------------------------------------------\u001b[0m",
      "\u001b[1;31mKeyboardInterrupt\u001b[0m                         Traceback (most recent call last)",
      "\u001b[1;32mc:\\Users\\fromm\\OneDrive - Universitetet i Oslo\\UiO\\IN-STK9100\\project\\bandits\\experiments.ipynb Cell 12'\u001b[0m in \u001b[0;36m<cell line: 2>\u001b[1;34m()\u001b[0m\n\u001b[0;32m      <a href='vscode-notebook-cell:/c%3A/Users/fromm/OneDrive%20-%20Universitetet%20i%20Oslo/UiO/IN-STK9100/project/bandits/experiments.ipynb#ch0000011?line=0'>1</a>\u001b[0m eta \u001b[39m=\u001b[39m np\u001b[39m.\u001b[39msqrt(\u001b[39m2\u001b[39m\u001b[39m*\u001b[39mnp\u001b[39m.\u001b[39mlog(M)\u001b[39m/\u001b[39m(horizon\u001b[39m*\u001b[39mk))\n\u001b[1;32m----> <a href='vscode-notebook-cell:/c%3A/Users/fromm/OneDrive%20-%20Universitetet%20i%20Oslo/UiO/IN-STK9100/project/bandits/experiments.ipynb#ch0000011?line=1'>2</a>\u001b[0m exp4 \u001b[39m=\u001b[39m Exp4(M\u001b[39m*\u001b[39;49mk,reward,horizon,eta,advice)\n",
      "File \u001b[1;32mc:\\Users\\fromm\\OneDrive - Universitetet i Oslo\\UiO\\IN-STK9100\\project\\bandits\\exp4.py:25\u001b[0m, in \u001b[0;36mExp4\u001b[1;34m(M, reward, horizon, c, advice)\u001b[0m\n\u001b[0;32m     <a href='file:///c%3A/Users/fromm/OneDrive%20-%20Universitetet%20i%20Oslo/UiO/IN-STK9100/project/bandits/exp4.py?line=22'>23</a>\u001b[0m     X \u001b[39m=\u001b[39m reward(t,A)\n\u001b[0;32m     <a href='file:///c%3A/Users/fromm/OneDrive%20-%20Universitetet%20i%20Oslo/UiO/IN-STK9100/project/bandits/exp4.py?line=23'>24</a>\u001b[0m     \u001b[39mif\u001b[39;00m X \u001b[39mis\u001b[39;00m \u001b[39mnot\u001b[39;00m \u001b[39mNone\u001b[39;00m:\n\u001b[1;32m---> <a href='file:///c%3A/Users/fromm/OneDrive%20-%20Universitetet%20i%20Oslo/UiO/IN-STK9100/project/bandits/exp4.py?line=24'>25</a>\u001b[0m         Q \u001b[39m=\u001b[39m update_importance_weighted_with_experts(Q,E,A,X,P,c)\n\u001b[0;32m     <a href='file:///c%3A/Users/fromm/OneDrive%20-%20Universitetet%20i%20Oslo/UiO/IN-STK9100/project/bandits/exp4.py?line=25'>26</a>\u001b[0m         all_rewards\u001b[39m.\u001b[39mappend(X)\n\u001b[0;32m     <a href='file:///c%3A/Users/fromm/OneDrive%20-%20Universitetet%20i%20Oslo/UiO/IN-STK9100/project/bandits/exp4.py?line=26'>27</a>\u001b[0m \u001b[39mreturn\u001b[39;00m all_rewards\n",
      "File \u001b[1;32mc:\\Users\\fromm\\OneDrive - Universitetet i Oslo\\UiO\\IN-STK9100\\project\\bandits\\exp4.py:12\u001b[0m, in \u001b[0;36mupdate_importance_weighted_with_experts\u001b[1;34m(Q, E, arm, reward, P, c)\u001b[0m\n\u001b[0;32m     <a href='file:///c%3A/Users/fromm/OneDrive%20-%20Universitetet%20i%20Oslo/UiO/IN-STK9100/project/bandits/exp4.py?line=9'>10</a>\u001b[0m \u001b[39mdef\u001b[39;00m \u001b[39mupdate_importance_weighted_with_experts\u001b[39m(Q,E,arm,reward,P,c):\n\u001b[0;32m     <a href='file:///c%3A/Users/fromm/OneDrive%20-%20Universitetet%20i%20Oslo/UiO/IN-STK9100/project/bandits/exp4.py?line=10'>11</a>\u001b[0m     X_hat \u001b[39m=\u001b[39m update_importance_weighted(np\u001b[39m.\u001b[39mzeros(E\u001b[39m.\u001b[39mshape[\u001b[39m1\u001b[39m]),arm,reward,P)\n\u001b[1;32m---> <a href='file:///c%3A/Users/fromm/OneDrive%20-%20Universitetet%20i%20Oslo/UiO/IN-STK9100/project/bandits/exp4.py?line=11'>12</a>\u001b[0m     X_tilde \u001b[39m=\u001b[39m np\u001b[39m.\u001b[39;49mdot(E,X_hat)\n\u001b[0;32m     <a href='file:///c%3A/Users/fromm/OneDrive%20-%20Universitetet%20i%20Oslo/UiO/IN-STK9100/project/bandits/exp4.py?line=12'>13</a>\u001b[0m     Q \u001b[39m=\u001b[39m np\u001b[39m.\u001b[39mmultiply(np\u001b[39m.\u001b[39mexp(c\u001b[39m*\u001b[39mX_tilde),Q)\u001b[39m/\u001b[39mnp\u001b[39m.\u001b[39msum(np\u001b[39m.\u001b[39mmultiply(np\u001b[39m.\u001b[39mexp(c\u001b[39m*\u001b[39mX_tilde),Q))\n\u001b[0;32m     <a href='file:///c%3A/Users/fromm/OneDrive%20-%20Universitetet%20i%20Oslo/UiO/IN-STK9100/project/bandits/exp4.py?line=13'>14</a>\u001b[0m     \u001b[39mreturn\u001b[39;00m Q\n",
      "File \u001b[1;32m<__array_function__ internals>:5\u001b[0m, in \u001b[0;36mdot\u001b[1;34m(*args, **kwargs)\u001b[0m\n",
      "\u001b[1;31mKeyboardInterrupt\u001b[0m: "
     ]
    }
   ],
   "source": [
    "eta = np.sqrt(2*np.log(M)/(horizon*k))\n",
    "exp4 = Exp4(M*k,reward,horizon,eta,advice)"
   ]
  },
  {
   "cell_type": "code",
   "execution_count": null,
   "metadata": {},
   "outputs": [
    {
     "data": {
      "text/plain": [
       "<matplotlib.legend.Legend at 0x21790c80760>"
      ]
     },
     "execution_count": 11,
     "metadata": {},
     "output_type": "execute_result"
    },
    {
     "data": {
      "image/png": "[encoded data removed]",
      "text/plain": [
       "<Figure size 432x288 with 1 Axes>"
      ]
     },
     "metadata": {
      "needs_background": "light"
     },
     "output_type": "display_data"
    }
   ],
   "source": [
    "random = np.full(len(ucb),data['Liked'].value_counts(normalize=True)[1])\n",
    "\n",
    "fig1, ax1 = plt.subplots()\n",
    "ax1.plot(range(len(ucb)), np.cumsum(ucb), label='UCB')\n",
    "ax1.plot(range(len(exp3)), np.cumsum(exp3), label='Exp3')\n",
    "ax1.plot(range(len(exp4)), np.cumsum(exp4), label='Exp4')\n",
    "ax1.plot(range(len(random)), np.cumsum(random), label='Random')\n",
    "ax1.set_title(\"Cumulative reward using replay evaluation\")\n",
    "ax1.set_xlabel(\"Steps\")\n",
    "ax1.set_ylabel(\"Cumulative reward\")\n",
    "plt.legend()"
   ]
  },
  {
   "cell_type": "code",
   "execution_count": null,
   "metadata": {},
   "outputs": [
    {
     "data": {
      "text/plain": [
       "<matplotlib.legend.Legend at 0x217927aedc0>"
      ]
     },
     "execution_count": 12,
     "metadata": {},
     "output_type": "execute_result"
    },
    {
     "data": {
      "image/png": "[encoded data removed]",
      "text/plain": [
       "<Figure size 432x288 with 1 Axes>"
      ]
     },
     "metadata": {
      "needs_background": "light"
     },
     "output_type": "display_data"
    }
   ],
   "source": [
    "cumulative_random = np.cumsum(random) / np.linspace(1, len(random), len(random))\n",
    "cumulative_ucb = np.cumsum(ucb) / np.linspace(1, len(ucb), len(ucb))\n",
    "cumulative_exp3 = np.cumsum(exp3) / np.linspace(1, len(exp3), len(exp3))\n",
    "cumulative_exp4 = np.cumsum(exp4) / np.linspace(1, len(exp4), len(exp4))\n",
    "\n",
    "fig1, ax1 = plt.subplots()\n",
    "ax1.plot(range(len(ucb)), np.asarray(pd.Series(cumulative_ucb).rolling(200).mean()), label='UCB')\n",
    "ax1.plot(range(len(exp3)), np.asarray(pd.Series(cumulative_exp3).rolling(200).mean()), label='Exp3')\n",
    "ax1.plot(range(len(exp4)), np.asarray(pd.Series(cumulative_exp4).rolling(200).mean()), label='Exp4')\n",
    "ax1.plot(range(len(random)), np.asarray(pd.Series(cumulative_random).rolling(200).mean()), label='Random')\n",
    "ax1.set_title(\"200-Round Rolling Mean Reward\")\n",
    "ax1.set_xlabel(\"Steps\")\n",
    "ax1.set_ylabel(\"Reward\")\n",
    "plt.legend()"
   ]
  }
 ],
 "metadata": {
  "interpreter": {
   "hash": "f2dbe8bebdc9babf0311c0fdc47eba64ef23899afc2cc5794675b5d984c6e1a4"
  },
  "kernelspec": {
   "display_name": "Python 3.9.2 ('project-7Q2pLUeY-py3.9')",
   "language": "python",
   "name": "python3"
  },
  "language_info": {
   "codemirror_mode": {
    "name": "ipython",
    "version": 3
   },
   "file_extension": ".py",
   "mimetype": "text/x-python",
   "name": "python",
   "nbconvert_exporter": "python",
   "pygments_lexer": "ipython3",
   "version": "3.9.2"
  },
  "orig_nbformat": 4
 },
 "nbformat": 4,
 "nbformat_minor": 2
}
